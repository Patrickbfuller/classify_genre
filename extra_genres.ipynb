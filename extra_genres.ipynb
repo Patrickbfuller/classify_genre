{
 "cells": [
  {
   "cell_type": "markdown",
   "metadata": {},
   "source": [
    "Business Understanding"
   ]
  },
  {
   "cell_type": "code",
   "execution_count": 53,
   "metadata": {},
   "outputs": [
    {
     "name": "stdout",
     "output_type": "stream",
     "text": [
      "The autoreload extension is already loaded. To reload it, use:\n",
      "  %reload_ext autoreload\n"
     ]
    }
   ],
   "source": [
    "%load_ext autoreload\n",
    "%autoreload 2"
   ]
  },
  {
   "cell_type": "markdown",
   "metadata": {},
   "source": [
    "Data Understaning"
   ]
  },
  {
   "cell_type": "code",
   "execution_count": 1,
   "metadata": {},
   "outputs": [],
   "source": [
    "from genres import collect_genre_features"
   ]
  },
  {
   "cell_type": "code",
   "execution_count": 2,
   "metadata": {},
   "outputs": [],
   "source": [
    "genre_playlists = {\n",
    "    'bluegrass':'https://www.youtube.com/playlist?list=PLKUA473MWUv2mddNMPh-MJkgTR5AjTpl3',\n",
    "    'blues':'https://www.youtube.com/playlist?list=PLxvodScTx2RuB7Yh_d21kD0HDZvDXWBbY',\n",
    "    'folk':'https://www.youtube.com/playlist?list=PLGBuKfnErZlBLNzS_JlDAeiH5aW26rvHc',\n",
    "    'classic_rock':'https://www.youtube.com/playlist?list=PLNxOe-buLm6cz8UQ-hyG1nm3RTNBUBv3K'\n",
    "}\n",
    "# collect_genre_features(genre_playlists, data_fp='data/extra_genre_features.json')"
   ]
  },
  {
   "cell_type": "code",
   "execution_count": 3,
   "metadata": {},
   "outputs": [],
   "source": [
    "import pandas as pd"
   ]
  },
  {
   "cell_type": "code",
   "execution_count": 4,
   "metadata": {},
   "outputs": [],
   "source": [
    "df_extra = pd.read_json('data/extra_genre_features.json', lines=True)"
   ]
  },
  {
   "cell_type": "code",
   "execution_count": 5,
   "metadata": {},
   "outputs": [
    {
     "data": {
      "text/plain": [
       "genre\n",
       "bluegrass       87\n",
       "blues           92\n",
       "classic_rock    80\n",
       "folk            74\n",
       "Name: song, dtype: int64"
      ]
     },
     "execution_count": 5,
     "metadata": {},
     "output_type": "execute_result"
    }
   ],
   "source": [
    "df_extra.groupby('genre').song.nunique()"
   ]
  },
  {
   "cell_type": "code",
   "execution_count": 6,
   "metadata": {},
   "outputs": [
    {
     "data": {
      "text/plain": [
       "genre\n",
       "bluegrass       2083\n",
       "blues           2206\n",
       "classic_rock    1920\n",
       "folk            1773\n",
       "Name: song, dtype: int64"
      ]
     },
     "execution_count": 6,
     "metadata": {},
     "output_type": "execute_result"
    }
   ],
   "source": [
    "df_extra.groupby('genre').song.count()"
   ]
  },
  {
   "cell_type": "markdown",
   "metadata": {},
   "source": [
    "Not perfect but a reasonable chunk."
   ]
  },
  {
   "cell_type": "markdown",
   "metadata": {},
   "source": [
    "### Lets Pickle them for storage on git."
   ]
  },
  {
   "cell_type": "code",
   "execution_count": 7,
   "metadata": {},
   "outputs": [],
   "source": [
    "import pickle"
   ]
  },
  {
   "cell_type": "code",
   "execution_count": 8,
   "metadata": {},
   "outputs": [],
   "source": [
    "with open('data/extra_genre_features.pkl', 'wb') as f:\n",
    "    pickle.dump(df_extra.to_json(), f)"
   ]
  },
  {
   "cell_type": "code",
   "execution_count": 9,
   "metadata": {},
   "outputs": [],
   "source": [
    "df_original = pd.read_json('data/genre_features.json', lines=True)"
   ]
  },
  {
   "cell_type": "code",
   "execution_count": 10,
   "metadata": {},
   "outputs": [],
   "source": [
    "with open('data/genre_features.pkl', 'wb') as f:\n",
    "    pickle.dump(df_original.to_json(), f)"
   ]
  },
  {
   "cell_type": "markdown",
   "metadata": {},
   "source": [
    "### Data Preparation"
   ]
  },
  {
   "cell_type": "markdown",
   "metadata": {},
   "source": [
    "Putting the old with the new."
   ]
  },
  {
   "cell_type": "code",
   "execution_count": 11,
   "metadata": {},
   "outputs": [],
   "source": [
    "with open('data/genre_features.pkl', 'rb') as f:\n",
    "    df_original = pd.read_json(pickle.load(f))\n",
    "with open('data/extra_genre_features.pkl', 'rb') as f:\n",
    "    df_extra = pd.read_json(pickle.load(f))"
   ]
  },
  {
   "cell_type": "code",
   "execution_count": 19,
   "metadata": {},
   "outputs": [],
   "source": [
    "df = pd.concat([df_original, df_extra])"
   ]
  },
  {
   "cell_type": "code",
   "execution_count": 23,
   "metadata": {},
   "outputs": [],
   "source": [
    "from sklearn.model_selection import train_test_split\n",
    "\n",
    "y = df['genre']\n",
    "X = df.drop(['genre', 'song'], axis=1)\n",
    "X_model, X_val, y_model, y_val = train_test_split(\n",
    "    X,\n",
    "    y,\n",
    "    test_size=0.2,\n",
    "    random_state=111,\n",
    "    stratify=y\n",
    ")\n",
    "X_train, X_test, y_train, y_test = train_test_split(\n",
    "    X_model,\n",
    "    y_model,\n",
    "    test_size=0.2,\n",
    "    random_state=111,\n",
    "    stratify=y_model\n",
    ")"
   ]
  },
  {
   "cell_type": "code",
   "execution_count": 24,
   "metadata": {},
   "outputs": [
    {
     "data": {
      "text/plain": [
       "metal           2399\n",
       "jazz            2397\n",
       "country         2389\n",
       "electronic      2371\n",
       "hip_hop         2345\n",
       "classical       2320\n",
       "blues           2206\n",
       "bluegrass       2083\n",
       "classic_rock    1920\n",
       "folk            1773\n",
       "Name: genre, dtype: int64"
      ]
     },
     "execution_count": 24,
     "metadata": {},
     "output_type": "execute_result"
    }
   ],
   "source": [
    "y.value_counts()"
   ]
  },
  {
   "cell_type": "code",
   "execution_count": 36,
   "metadata": {},
   "outputs": [
    {
     "data": {
      "text/html": [
       "<div>\n",
       "<style scoped>\n",
       "    .dataframe tbody tr th:only-of-type {\n",
       "        vertical-align: middle;\n",
       "    }\n",
       "\n",
       "    .dataframe tbody tr th {\n",
       "        vertical-align: top;\n",
       "    }\n",
       "\n",
       "    .dataframe thead th {\n",
       "        text-align: right;\n",
       "    }\n",
       "</style>\n",
       "<table border=\"1\" class=\"dataframe\">\n",
       "  <thead>\n",
       "    <tr style=\"text-align: right;\">\n",
       "      <th></th>\n",
       "      <th>genre</th>\n",
       "      <th>genre</th>\n",
       "      <th>genre</th>\n",
       "    </tr>\n",
       "  </thead>\n",
       "  <tbody>\n",
       "    <tr>\n",
       "      <td>bluegrass</td>\n",
       "      <td>1333</td>\n",
       "      <td>333</td>\n",
       "      <td>417</td>\n",
       "    </tr>\n",
       "    <tr>\n",
       "      <td>metal</td>\n",
       "      <td>1535</td>\n",
       "      <td>384</td>\n",
       "      <td>480</td>\n",
       "    </tr>\n",
       "    <tr>\n",
       "      <td>hip_hop</td>\n",
       "      <td>1501</td>\n",
       "      <td>375</td>\n",
       "      <td>469</td>\n",
       "    </tr>\n",
       "    <tr>\n",
       "      <td>classical</td>\n",
       "      <td>1485</td>\n",
       "      <td>371</td>\n",
       "      <td>464</td>\n",
       "    </tr>\n",
       "    <tr>\n",
       "      <td>electronic</td>\n",
       "      <td>1517</td>\n",
       "      <td>380</td>\n",
       "      <td>474</td>\n",
       "    </tr>\n",
       "    <tr>\n",
       "      <td>jazz</td>\n",
       "      <td>1534</td>\n",
       "      <td>384</td>\n",
       "      <td>479</td>\n",
       "    </tr>\n",
       "    <tr>\n",
       "      <td>classic_rock</td>\n",
       "      <td>1229</td>\n",
       "      <td>307</td>\n",
       "      <td>384</td>\n",
       "    </tr>\n",
       "    <tr>\n",
       "      <td>country</td>\n",
       "      <td>1529</td>\n",
       "      <td>382</td>\n",
       "      <td>478</td>\n",
       "    </tr>\n",
       "    <tr>\n",
       "      <td>folk</td>\n",
       "      <td>1134</td>\n",
       "      <td>284</td>\n",
       "      <td>355</td>\n",
       "    </tr>\n",
       "    <tr>\n",
       "      <td>blues</td>\n",
       "      <td>1412</td>\n",
       "      <td>353</td>\n",
       "      <td>441</td>\n",
       "    </tr>\n",
       "  </tbody>\n",
       "</table>\n",
       "</div>"
      ],
      "text/plain": [
       "              genre  genre  genre\n",
       "bluegrass      1333    333    417\n",
       "metal          1535    384    480\n",
       "hip_hop        1501    375    469\n",
       "classical      1485    371    464\n",
       "electronic     1517    380    474\n",
       "jazz           1534    384    479\n",
       "classic_rock   1229    307    384\n",
       "country        1529    382    478\n",
       "folk           1134    284    355\n",
       "blues          1412    353    441"
      ]
     },
     "execution_count": 36,
     "metadata": {},
     "output_type": "execute_result"
    }
   ],
   "source": [
    "tt_split_dists = pd.concat(\n",
    "    [\n",
    "        y_train.value_counts(sort=False),\n",
    "        y_test.value_counts(sort=False),\n",
    "        y_val.value_counts(sort=False)\n",
    "    ],\n",
    "    axis=1,\n",
    "    sort=False\n",
    ")\n",
    "tt_split_dists"
   ]
  },
  {
   "cell_type": "code",
   "execution_count": 42,
   "metadata": {},
   "outputs": [
    {
     "data": {
      "image/png": "[encoded data removed]",
      "text/plain": [
       "<Figure size 432x288 with 1 Axes>"
      ]
     },
     "metadata": {
      "needs_background": "light"
     },
     "output_type": "display_data"
    }
   ],
   "source": [
    "tt_split_dists.plot.bar(legend=False);"
   ]
  },
  {
   "cell_type": "markdown",
   "metadata": {},
   "source": [
    "Displots for genres - x x - x - x x- x- x- x"
   ]
  },
  {
   "cell_type": "markdown",
   "metadata": {},
   "source": [
    "### Modeling"
   ]
  },
  {
   "cell_type": "markdown",
   "metadata": {},
   "source": [
    "First run to compare with prior best performer"
   ]
  },
  {
   "cell_type": "code",
   "execution_count": 63,
   "metadata": {},
   "outputs": [],
   "source": [
    "labels = list(df.genre.unique())"
   ]
  },
  {
   "cell_type": "code",
   "execution_count": 79,
   "metadata": {},
   "outputs": [
    {
     "name": "stdout",
     "output_type": "stream",
     "text": [
      "\n",
      "    Log Loss:\n",
      "        0.5421016940954572\n",
      "    Jaccard:\n",
      "        0.72228\n",
      "\t-Country: 0.6179)\n",
      "\t-Jazz: 0.8381)\n",
      "\t-Hip_Hop: 0.64871)\n",
      "\t-Classical: 0.78231)\n",
      "\t-Metal: 0.73288)\n",
      "\t-Electronic: 0.63736)\n",
      "\t-Bluegrass: 0.81148)\n",
      "\t-Blues: 0.70892)\n",
      "\t-Folk: 0.73292)\n",
      "\t-Classic_Rock: 0.71221)\n"
     ]
    }
   ],
   "source": [
    "from sklearn.preprocessing import PowerTransformer\n",
    "from sklearn.svm import SVC\n",
    "from sklearn.pipeline import Pipeline\n",
    "from genres import eval_model\n",
    "svc_model = SVC(\n",
    "    C=10,\n",
    "    gamma=0.25,\n",
    "    probability=True,\n",
    ")\n",
    "svc = Pipeline([\n",
    "    ('scaling', PowerTransformer()),\n",
    "    ('model', svc_model)\n",
    "])\n",
    "svc.fit(X_train, y_train)\n",
    "pred_probas = svc.predict_proba(X_test)\n",
    "preds = svc.predict(X_test)\n",
    "eval_model(y_test, preds, pred_probas, labels)"
   ]
  },
  {
   "cell_type": "markdown",
   "metadata": {},
   "source": [
    "And what about it's competitor?"
   ]
  },
  {
   "cell_type": "code",
   "execution_count": 81,
   "metadata": {},
   "outputs": [],
   "source": [
    "from sklearn.ensemble import GradientBoostingClassifier\n",
    "from sklearn.decomposition import PCA"
   ]
  },
  {
   "cell_type": "code",
   "execution_count": 83,
   "metadata": {},
   "outputs": [
    {
     "name": "stdout",
     "output_type": "stream",
     "text": [
      "\n",
      "    Log Loss:\n",
      "        0.7208098997431877\n",
      "    Jaccard:\n",
      "        0.62457\n",
      "\t-Country: 0.5165)\n",
      "\t-Jazz: 0.74728)\n",
      "\t-Hip_Hop: 0.6179)\n",
      "\t-Classical: 0.72687)\n",
      "\t-Metal: 0.62389)\n",
      "\t-Electronic: 0.58898)\n",
      "\t-Bluegrass: 0.71247)\n",
      "\t-Blues: 0.58315)\n",
      "\t-Folk: 0.58651)\n",
      "\t-Classic_Rock: 0.54211)\n"
     ]
    }
   ],
   "source": [
    "gbt_model = GradientBoostingClassifier(\n",
    "    max_depth=6,\n",
    "    n_estimators=200,\n",
    "    subsample=0.8,\n",
    ")\n",
    "gbt = Pipeline([\n",
    "    ('PCA', PCA()),\n",
    "    ('model', gbt_model)\n",
    "])\n",
    "gbt.fit(X_train, y_train)\n",
    "pred_probas = gbt.predict_proba(X_test)\n",
    "preds = gbt.predict(X_test)\n",
    "eval_model(y_test, preds, pred_probas, labels)"
   ]
  },
  {
   "cell_type": "markdown",
   "metadata": {},
   "source": [
    "It still appears that Support Vectors are outperforming the tree models."
   ]
  },
  {
   "cell_type": "markdown",
   "metadata": {},
   "source": [
    "#### Fine Tuning"
   ]
  },
  {
   "cell_type": "code",
   "execution_count": 84,
   "metadata": {},
   "outputs": [],
   "source": [
    "from sklearn.model_selection import GridSearchCV"
   ]
  },
  {
   "cell_type": "code",
   "execution_count": null,
   "metadata": {},
   "outputs": [],
   "source": []
  },
  {
   "cell_type": "markdown",
   "metadata": {},
   "source": [
    "Evaluation"
   ]
  },
  {
   "cell_type": "markdown",
   "metadata": {},
   "source": [
    "Deployment"
   ]
  },
  {
   "cell_type": "code",
   "execution_count": null,
   "metadata": {},
   "outputs": [],
   "source": []
  }
 ],
 "metadata": {
  "kernelspec": {
   "display_name": "learn-env",
   "language": "python",
   "name": "learn-env"
  },
  "language_info": {
   "codemirror_mode": {
    "name": "ipython",
    "version": 3
   },
   "file_extension": ".py",
   "mimetype": "text/x-python",
   "name": "python",
   "nbconvert_exporter": "python",
   "pygments_lexer": "ipython3",
   "version": "3.6.9"
  }
 },
 "nbformat": 4,
 "nbformat_minor": 2
}
