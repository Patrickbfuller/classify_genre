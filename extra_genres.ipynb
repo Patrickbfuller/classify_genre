{
 "cells": [
  {
   "cell_type": "code",
   "execution_count": 1,
   "metadata": {},
   "outputs": [],
   "source": [
    "from genres import collect_genre_features"
   ]
  },
  {
   "cell_type": "code",
   "execution_count": 2,
   "metadata": {},
   "outputs": [
    {
     "name": "stderr",
     "output_type": "stream",
     "text": [
      "WARNING: Unable to extract video title\n",
      "WARNING: unable to extract description; please report this issue on https://yt-dl.org/bug . Make sure you are using the latest version; see  https://yt-dl.org/update  on how to update. Be sure to call youtube-dl with the --verbose flag and include its complete output.\n",
      "ERROR: This video is no longer available because the YouTube account associated with this video has been terminated.\n",
      "Sorry about that.\n",
      "ERROR: This video contains content from BBC Studios, who has blocked it on copyright grounds.\n",
      "Sorry about that.\n",
      "ERROR: This video contains content from UMG, who has blocked it in your country on copyright grounds.\n",
      "Sorry about that.\n",
      "ERROR: This video contains content from UMG. It is not available.\n",
      "Sorry about that.\n",
      "ERROR: This video contains content from UMG, who has blocked it in your country on copyright grounds.\n",
      "Sorry about that.\n",
      "ERROR: This video contains content from UMG, who has blocked it in your country on copyright grounds.\n",
      "Sorry about that.\n",
      "ERROR: This video contains content from UMG, who has blocked it in your country on copyright grounds.\n",
      "Sorry about that.\n",
      "ERROR: This video contains content from UMG. It is not available in your country.\n",
      "Sorry about that.\n",
      "ERROR: This video contains content from WMG, who has blocked it in your country on copyright grounds.\n",
      "Sorry about that.\n",
      "WARNING: Unable to extract video title\n",
      "WARNING: unable to extract description; please report this issue on https://yt-dl.org/bug . Make sure you are using the latest version; see  https://yt-dl.org/update  on how to update. Be sure to call youtube-dl with the --verbose flag and include its complete output.\n",
      "ERROR: This video is no longer available due to a copyright claim by WMG.\n",
      "Sorry about that.\n",
      "ERROR: This video is not available.\n",
      "Sorry about that.\n",
      "ERROR: This video is not available.\n",
      "Sorry about that.\n",
      "ERROR: This video is not available.\n",
      "Sorry about that.\n",
      "ERROR: This video is not available.\n",
      "Sorry about that.\n",
      "WARNING: Unable to extract video title\n",
      "WARNING: unable to extract description; please report this issue on https://yt-dl.org/bug . Make sure you are using the latest version; see  https://yt-dl.org/update  on how to update. Be sure to call youtube-dl with the --verbose flag and include its complete output.\n",
      "ERROR: This video is no longer available due to a copyright claim by WMG.\n",
      "Sorry about that.\n",
      "ERROR: This video contains content from SME, who has blocked it in your country on copyright grounds.\n",
      "Sorry about that.\n",
      "ERROR: This video contains content from UMG, who has blocked it in your country on copyright grounds.\n",
      "Sorry about that.\n",
      "ERROR: This video is not available.\n",
      "Sorry about that.\n",
      "WARNING: Unable to extract video title\n",
      "WARNING: unable to extract description; please report this issue on https://yt-dl.org/bug . Make sure you are using the latest version; see  https://yt-dl.org/update  on how to update. Be sure to call youtube-dl with the --verbose flag and include its complete output.\n",
      "ERROR: This video is no longer available because the YouTube account associated with this video has been terminated.\n",
      "Sorry about that.\n",
      "WARNING: Unable to extract video title\n",
      "WARNING: unable to extract description; please report this issue on https://yt-dl.org/bug . Make sure you are using the latest version; see  https://yt-dl.org/update  on how to update. Be sure to call youtube-dl with the --verbose flag and include its complete output.\n",
      "ERROR: This video is no longer available due to a copyright claim by UMG.\n",
      "Sorry about that.\n",
      "WARNING: Unable to extract video title\n",
      "WARNING: unable to extract description; please report this issue on https://yt-dl.org/bug . Make sure you are using the latest version; see  https://yt-dl.org/update  on how to update. Be sure to call youtube-dl with the --verbose flag and include its complete output.\n",
      "ERROR: This video is no longer available because the YouTube account associated with this video has been terminated.\n",
      "Sorry about that.\n",
      "WARNING: Unable to extract video title\n",
      "WARNING: unable to extract description; please report this issue on https://yt-dl.org/bug . Make sure you are using the latest version; see  https://yt-dl.org/update  on how to update. Be sure to call youtube-dl with the --verbose flag and include its complete output.\n",
      "ERROR: This video is no longer available because the YouTube account associated with this video has been terminated.\n",
      "Sorry about that.\n",
      "WARNING: Unable to extract video title\n",
      "WARNING: unable to extract description; please report this issue on https://yt-dl.org/bug . Make sure you are using the latest version; see  https://yt-dl.org/update  on how to update. Be sure to call youtube-dl with the --verbose flag and include its complete output.\n",
      "ERROR: This video is no longer available due to a copyright claim by WMG.\n",
      "Sorry about that.\n",
      "WARNING: Unable to extract video title\n",
      "WARNING: unable to extract description; please report this issue on https://yt-dl.org/bug . Make sure you are using the latest version; see  https://yt-dl.org/update  on how to update. Be sure to call youtube-dl with the --verbose flag and include its complete output.\n",
      "ERROR: This video is no longer available because the YouTube account associated with this video has been terminated.\n",
      "Sorry about that.\n",
      "ERROR: This video contains content from SME, who has blocked it on copyright grounds.\n",
      "Sorry about that.\n",
      "WARNING: Unable to extract video title\n",
      "WARNING: unable to extract description; please report this issue on https://yt-dl.org/bug . Make sure you are using the latest version; see  https://yt-dl.org/update  on how to update. Be sure to call youtube-dl with the --verbose flag and include its complete output.\n",
      "ERROR: This video is no longer available because the YouTube account associated with this video has been terminated.\n",
      "Sorry about that.\n",
      "WARNING: Unable to extract video title\n",
      "WARNING: unable to extract description; please report this issue on https://yt-dl.org/bug . Make sure you are using the latest version; see  https://yt-dl.org/update  on how to update. Be sure to call youtube-dl with the --verbose flag and include its complete output.\n",
      "ERROR: This video is no longer available because the YouTube account associated with this video has been terminated.\n",
      "Sorry about that.\n",
      "ERROR: This video contains content from SME, who has blocked it in your country on copyright grounds.\n",
      "Sorry about that.\n",
      "ERROR: This video contains content from UMG, who has blocked it in your country on copyright grounds.\n",
      "Sorry about that.\n",
      "WARNING: Unable to extract video title\n",
      "WARNING: unable to extract description; please report this issue on https://yt-dl.org/bug . Make sure you are using the latest version; see  https://yt-dl.org/update  on how to update. Be sure to call youtube-dl with the --verbose flag and include its complete output.\n",
      "ERROR: Content Warning\n",
      "If the owner of this video has granted you access, please sign in.\n",
      "       This video is private.\n",
      "WARNING: Unable to extract video title\n",
      "WARNING: unable to extract description; please report this issue on https://yt-dl.org/bug . Make sure you are using the latest version; see  https://yt-dl.org/update  on how to update. Be sure to call youtube-dl with the --verbose flag and include its complete output.\n",
      "ERROR: This video is no longer available because the YouTube account associated with this video has been terminated.\n",
      "Sorry about that.\n",
      "ERROR: The uploader has not made this video available.\n",
      "Sorry about that.\n",
      "ERROR: The uploader has not made this video available in your country.\n",
      "Sorry about that.\n",
      "/Applications/anaconda3/envs/learn-env/lib/python3.6/site-packages/librosa/core/pitch.py:145: UserWarning: Trying to estimate tuning from empty frequency set.\n",
      "  warnings.warn('Trying to estimate tuning from empty frequency set.')\n",
      "ERROR: This video contains content from WMG, who has blocked it in your country on copyright grounds.\n",
      "Sorry about that.\n",
      "WARNING: Unable to extract video title\n",
      "WARNING: unable to extract description; please report this issue on https://yt-dl.org/bug . Make sure you are using the latest version; see  https://yt-dl.org/update  on how to update. Be sure to call youtube-dl with the --verbose flag and include its complete output.\n",
      "ERROR: This video is no longer available due to a copyright claim by WMG.\n",
      "Sorry about that.\n",
      "ERROR: This video contains content from UMG, who has blocked it in your country on copyright grounds.\n",
      "Sorry about that.\n",
      "WARNING: Unable to extract video title\n",
      "WARNING: unable to extract description; please report this issue on https://yt-dl.org/bug . Make sure you are using the latest version; see  https://yt-dl.org/update  on how to update. Be sure to call youtube-dl with the --verbose flag and include its complete output.\n",
      "ERROR: This video is no longer available due to a copyright claim by BSP Ltd.\n",
      "Sorry about that.\n",
      "WARNING: Unable to extract video title\n",
      "WARNING: unable to extract description; please report this issue on https://yt-dl.org/bug . Make sure you are using the latest version; see  https://yt-dl.org/update  on how to update. Be sure to call youtube-dl with the --verbose flag and include its complete output.\n",
      "ERROR: This video has been removed for violating YouTube's Terms of Service.\n",
      "Sorry about that.\n",
      "WARNING: Unable to extract video title\n",
      "WARNING: unable to extract description; please report this issue on https://yt-dl.org/bug . Make sure you are using the latest version; see  https://yt-dl.org/update  on how to update. Be sure to call youtube-dl with the --verbose flag and include its complete output.\n",
      "ERROR: This video is no longer available due to a copyright claim by [Merlin] Eleven Seven Music Group.\n",
      "Sorry about that.\n",
      "WARNING: Unable to extract video title\n",
      "WARNING: unable to extract description; please report this issue on https://yt-dl.org/bug . Make sure you are using the latest version; see  https://yt-dl.org/update  on how to update. Be sure to call youtube-dl with the --verbose flag and include its complete output.\n",
      "ERROR: This video is no longer available because the YouTube account associated with this video has been terminated.\n",
      "Sorry about that.\n",
      "WARNING: Unable to extract video title\n",
      "WARNING: unable to extract description; please report this issue on https://yt-dl.org/bug . Make sure you are using the latest version; see  https://yt-dl.org/update  on how to update. Be sure to call youtube-dl with the --verbose flag and include its complete output.\n",
      "ERROR: Content Warning\n",
      "If the owner of this video has granted you access, please sign in.\n",
      "       This video is private.\n",
      "ERROR: This video contains content from UMG, who has blocked it on copyright grounds.\n",
      "Sorry about that.\n",
      "WARNING: Unable to extract video title\n",
      "WARNING: unable to extract description; please report this issue on https://yt-dl.org/bug . Make sure you are using the latest version; see  https://yt-dl.org/update  on how to update. Be sure to call youtube-dl with the --verbose flag and include its complete output.\n",
      "ERROR: This video is no longer available because the YouTube account associated with this video has been terminated.\n",
      "Sorry about that.\n",
      "ERROR: This video contains content from SME, who has blocked it in your country on copyright grounds.\n",
      "Sorry about that.\n"
     ]
    }
   ],
   "source": [
    "genre_playlists = {\n",
    "    'bluegrass':'https://www.youtube.com/playlist?list=PLKUA473MWUv2mddNMPh-MJkgTR5AjTpl3',\n",
    "    'blues':'https://www.youtube.com/playlist?list=PLxvodScTx2RuB7Yh_d21kD0HDZvDXWBbY',\n",
    "    'folk':'https://www.youtube.com/playlist?list=PLGBuKfnErZlBLNzS_JlDAeiH5aW26rvHc',\n",
    "    'classic_rock':'https://www.youtube.com/playlist?list=PLNxOe-buLm6cz8UQ-hyG1nm3RTNBUBv3K'\n",
    "}\n",
    "collect_genre_features(genre_playlists, data_fp='data/extra_genre_features.json')"
   ]
  },
  {
   "cell_type": "code",
   "execution_count": 3,
   "metadata": {},
   "outputs": [],
   "source": [
    "import pandas as pd"
   ]
  },
  {
   "cell_type": "code",
   "execution_count": 4,
   "metadata": {},
   "outputs": [],
   "source": [
    "df = pd.read_json('data/extra_genre_features.json', lines=True)"
   ]
  },
  {
   "cell_type": "code",
   "execution_count": 7,
   "metadata": {},
   "outputs": [
    {
     "data": {
      "text/plain": [
       "genre\n",
       "bluegrass       87\n",
       "blues           92\n",
       "classic_rock    80\n",
       "folk            74\n",
       "Name: song, dtype: int64"
      ]
     },
     "execution_count": 7,
     "metadata": {},
     "output_type": "execute_result"
    }
   ],
   "source": [
    "df.groupby('genre').song.nunique()"
   ]
  },
  {
   "cell_type": "code",
   "execution_count": 8,
   "metadata": {},
   "outputs": [],
   "source": [
    "import pickle"
   ]
  },
  {
   "cell_type": "code",
   "execution_count": 19,
   "metadata": {},
   "outputs": [],
   "source": [
    "with open('data/extra_genre_features.pkl', 'wb') as f:\n",
    "    pickle.dump(df.to_json(), f)"
   ]
  },
  {
   "cell_type": "code",
   "execution_count": 20,
   "metadata": {},
   "outputs": [],
   "source": [
    "df_original = pd.read_json('data/genre_features.json', lines=True)"
   ]
  },
  {
   "cell_type": "code",
   "execution_count": 21,
   "metadata": {},
   "outputs": [],
   "source": [
    "with open('data/genre_features.pkl', 'wb') as f:\n",
    "    pickle.dump(df_original.to_json(), f)"
   ]
  },
  {
   "cell_type": "code",
   "execution_count": null,
   "metadata": {},
   "outputs": [],
   "source": []
  }
 ],
 "metadata": {
  "kernelspec": {
   "display_name": "learn-env",
   "language": "python",
   "name": "learn-env"
  },
  "language_info": {
   "codemirror_mode": {
    "name": "ipython",
    "version": 3
   },
   "file_extension": ".py",
   "mimetype": "text/x-python",
   "name": "python",
   "nbconvert_exporter": "python",
   "pygments_lexer": "ipython3",
   "version": "3.6.9"
  }
 },
 "nbformat": 4,
 "nbformat_minor": 2
}
