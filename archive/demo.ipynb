{
 "cells": [
  {
   "cell_type": "code",
   "execution_count": 7,
   "metadata": {},
   "outputs": [
    {
     "name": "stdout",
     "output_type": "stream",
     "text": [
      "The autoreload extension is already loaded. To reload it, use:\n",
      "  %reload_ext autoreload\n"
     ]
    }
   ],
   "source": [
    "from genres import classify\n",
    "%load_ext autoreload\n",
    "%autoreload 2"
   ]
  },
  {
   "cell_type": "code",
   "execution_count": 8,
   "metadata": {},
   "outputs": [
    {
     "name": "stdout",
     "output_type": "stream",
     "text": [
      "classify name is  genres\n",
      "classify rows name is  genres\n"
     ]
    },
    {
     "data": {
      "text/plain": [
       "[('folk', 32.075),\n",
       " ('country', 20.112),\n",
       " ('blues', 20.018),\n",
       " ('hip_hop', 11.351),\n",
       " ('classic_rock', 5.452),\n",
       " ('jazz', 4.061),\n",
       " ('electronic', 2.303),\n",
       " ('metal', 1.929),\n",
       " ('bluegrass', 1.74),\n",
       " ('classical', 0.959)]"
      ]
     },
     "execution_count": 8,
     "metadata": {},
     "output_type": "execute_result"
    }
   ],
   "source": [
    "classify(m4a_fp='/Users/patrickfuller/Music/iTunes/iTunes Media/Music/Unknown Artist/Unknown Album/Violet Dare.mp3')"
   ]
  },
  {
   "cell_type": "code",
   "execution_count": null,
   "metadata": {},
   "outputs": [],
   "source": [
    "!ls /Users/patrickfuller/Music/iTunes/iTunes\\ Media/Music/Unknown\\ Artist/Unknown\\ Album/"
   ]
  },
  {
   "cell_type": "code",
   "execution_count": null,
   "metadata": {},
   "outputs": [],
   "source": [
    "darkness_url = 'https://www.youtube.com/watch?v=QSGa1dW_KoE'\n",
    "classify(url=darkness_url)"
   ]
  },
  {
   "cell_type": "code",
   "execution_count": null,
   "metadata": {},
   "outputs": [],
   "source": [
    "classify(url='https://www.youtube.com/watch?v=PBwAxmrE194')     # Cream by wu tang"
   ]
  },
  {
   "cell_type": "code",
   "execution_count": null,
   "metadata": {},
   "outputs": [],
   "source": []
  }
 ],
 "metadata": {
  "kernelspec": {
   "display_name": "learn-env",
   "language": "python",
   "name": "learn-env"
  },
  "language_info": {
   "codemirror_mode": {
    "name": "ipython",
    "version": 3
   },
   "file_extension": ".py",
   "mimetype": "text/x-python",
   "name": "python",
   "nbconvert_exporter": "python",
   "pygments_lexer": "ipython3",
   "version": "3.6.9"
  }
 },
 "nbformat": 4,
 "nbformat_minor": 2
}
