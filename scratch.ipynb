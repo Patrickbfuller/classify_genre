{
 "cells": [
  {
   "cell_type": "code",
   "execution_count": 104,
   "metadata": {},
   "outputs": [],
   "source": [
    "import requests\n",
    "import bs4\n",
    "from glob import glob\n",
    "import youtube_dl\n",
    "import librosa"
   ]
  },
  {
   "cell_type": "code",
   "execution_count": 14,
   "metadata": {},
   "outputs": [],
   "source": [
    "genres = {\n",
    "    'country': 'https://www.youtube.com/playlist?list=PL3oW2tjiIxvQW6c-4Iry8Bpp3QId40S5S', \n",
    "    'jazz': 'https://www.youtube.com/playlist?list=PL8F6B0753B2CCA128', \n",
    "    'hip_hop': 'https://www.youtube.com/playlist?list=PLAPo1R_GVX4IZGbDvUH60bOwIOnZplZzM', \n",
    "    'classical': 'https://www.youtube.com/playlist?list=PLRb-5mC4V_Lop8KLXqSqMv4_mqw5M9jjW', \n",
    "    'metal': 'https://www.youtube.com/playlist?list=PLfY-m4YMsF-OM1zG80pMguej_Ufm8t0VC', \n",
    "    'electronic': 'https://www.youtube.com/playlist?list=PLDDAxmBan0BKeIxuYWjMPBWGXDqNRaW5S'\n",
    "}"
   ]
  },
  {
   "cell_type": "code",
   "execution_count": 101,
   "metadata": {},
   "outputs": [],
   "source": [
    "url = \"https://www.youtube.com/watch?v=TI8nSJ9-C3c\"\n",
    "ydl_opts = {\n",
    "    'format': 'bestaudio/best',\n",
    "    'ignoreerrors': True,\n",
    "    'outtmpl': '%(title)s.%(ext)s',\n",
    "    'playlistend': 1,\n",
    "    'postprocessors': [{\n",
    "        'key': 'FFmpegExtractAudio',\n",
    "        'preferredcodec': 'm4a',\n",
    "        'preferredquality': '192',\n",
    "    }],\n",
    "}\n",
    "# with youtube_dl.YoutubeDL(ydl_opts) as ydl:\n",
    "#     ydl.download(['https://www.youtube.com/watch?v=zXDAYlhdkyg&list=PL3oW2tjiIxvQW6c-4Iry8Bpp3QId40S5S'])\n",
    "ydl = youtube_dl.YoutubeDL(ydl_opts)"
   ]
  },
  {
   "cell_type": "code",
   "execution_count": 11,
   "metadata": {},
   "outputs": [],
   "source": [
    "# youtube_dl.YoutubeDL?"
   ]
  },
  {
   "cell_type": "code",
   "execution_count": 56,
   "metadata": {},
   "outputs": [],
   "source": [
    "response = requests.get('https://www.youtube.com/playlist?list=PL3oW2tjiIxvQW6c-4Iry8Bpp3QId40S5S')"
   ]
  },
  {
   "cell_type": "code",
   "execution_count": 57,
   "metadata": {},
   "outputs": [],
   "source": [
    "soup = bs4.BeautifulSoup(response.text, 'html.parser')"
   ]
  },
  {
   "cell_type": "code",
   "execution_count": null,
   "metadata": {},
   "outputs": [],
   "source": [
    "soup.select()"
   ]
  },
  {
   "cell_type": "code",
   "execution_count": 78,
   "metadata": {},
   "outputs": [],
   "source": [
    "link_sfxs = ([a['href'] for a in soup.find_all('a', class_='pl-video-title-link')])"
   ]
  },
  {
   "cell_type": "code",
   "execution_count": 102,
   "metadata": {},
   "outputs": [
    {
     "name": "stdout",
     "output_type": "stream",
     "text": [
      "[youtube:playlist] Downloading playlist PL3oW2tjiIxvQW6c-4Iry8Bpp3QId40S5S - add --no-playlist to just download video ZEWGyyLiqY4\n",
      "[youtube:playlist] PL3oW2tjiIxvQW6c-4Iry8Bpp3QId40S5S: Downloading webpage\n",
      "[download] Downloading playlist: Best Country Songs of All Time - Top Country Music Videos\n",
      "[youtube:playlist] playlist Best Country Songs of All Time - Top Country Music Videos: Downloading 1 videos\n",
      "[download] Downloading video 1 of 1\n",
      "[youtube] ZEWGyyLiqY4: Downloading webpage\n",
      "[youtube] ZEWGyyLiqY4: Downloading video info webpage\n",
      "[download] Destination: Blake Shelton - God's Country (Official Music Video).webm\n",
      "[download] 100% of 3.29MiB in 00:01\n",
      "[ffmpeg] Destination: Blake Shelton - God's Country (Official Music Video).m4a\n",
      "Deleting original file Blake Shelton - God's Country (Official Music Video).webm (pass -k to keep)\n",
      "[download] Finished downloading playlist: Best Country Songs of All Time - Top Country Music Videos\n"
     ]
    },
    {
     "data": {
      "text/plain": [
       "0"
      ]
     },
     "execution_count": 102,
     "metadata": {},
     "output_type": "execute_result"
    }
   ],
   "source": [
    "url = 'https://www.youtube.com' + link_sfxs[0]\n",
    "ydl.download([url])"
   ]
  },
  {
   "cell_type": "markdown",
   "metadata": {},
   "source": [
    "## Broad overview\n",
    "For each genre\n",
    "1. Get urls (_beatifulSoup_)\n",
    "For each url\n",
    " 1. Download - url to m4a(_youtube_dl_)\n",
    " 3. MIR - m4a to sonic features(_librosa_)\n",
    " 5. Remove *.m4a\n",
    "\n",
    "## Detailed\n",
    "for each genre:\n",
    "1. collect urls (_beatifulSoup_)  \n",
    "for each url\n",
    " 1. __Download__ - url to m4a(_youtube_dl_)\n",
    " 2. __Assign filepath__(_glob_)\n",
    " 3. __MIR__ - m4a to array(_librosa_)\n",
    " 4. __MIR__ - array to individual segments  \n",
    " 5. __For each segment__\n",
    "    1. __MIR__ - array to beats, mfccs, zcr...  \n",
    "    2. Append to __db__(_sql/csv/json??_)\n",
    "    \n",
    " 5. Remove *.m4a\n",
    "\n",
    "EDGE CASE - error handling"
   ]
  },
  {
   "cell_type": "code",
   "execution_count": 106,
   "metadata": {},
   "outputs": [
    {
     "data": {
      "text/plain": [
       "[\"Blake Shelton - God's Country (Official Music Video).m4a\"]"
      ]
     },
     "execution_count": 106,
     "metadata": {},
     "output_type": "execute_result"
    }
   ],
   "source": [
    "glob('*.m4a')"
   ]
  },
  {
   "cell_type": "code",
   "execution_count": 107,
   "metadata": {},
   "outputs": [],
   "source": [
    "ts, sr = librosa.load(glob('*.m4a')[0])"
   ]
  },
  {
   "cell_type": "code",
   "execution_count": null,
   "metadata": {},
   "outputs": [],
   "source": [
    "ts."
   ]
  }
 ],
 "metadata": {
  "kernelspec": {
   "display_name": "learn-env",
   "language": "python",
   "name": "learn-env"
  },
  "language_info": {
   "codemirror_mode": {
    "name": "ipython",
    "version": 3
   },
   "file_extension": ".py",
   "mimetype": "text/x-python",
   "name": "python",
   "nbconvert_exporter": "python",
   "pygments_lexer": "ipython3",
   "version": "3.6.9"
  }
 },
 "nbformat": 4,
 "nbformat_minor": 2
}
