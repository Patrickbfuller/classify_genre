{
 "cells": [
  {
   "cell_type": "code",
   "execution_count": 59,
   "metadata": {},
   "outputs": [],
   "source": [
    "import numpy as np\n",
    "import pandas as pd\n",
    "\n",
    "import sqlalchemy\n",
    "\n",
    "import requests\n",
    "import bs4\n",
    "from glob import glob\n",
    "import youtube_dl\n",
    "import librosa\n",
    "\n",
    "%load_ext autoreload\n",
    "%autoreload 2"
   ]
  },
  {
   "cell_type": "markdown",
   "metadata": {},
   "source": [
    "## Broad overview\n",
    "For each genre\n",
    "1. Get urls (_beatifulSoup_)\n",
    "For each url\n",
    " 1. Download - url to m4a(_youtube_dl_)\n",
    " 3. MIR - m4a to sonic features(_librosa_)\n",
    " 5. Remove *.m4a\n",
    "\n",
    "## Detailed\n",
    "for each genre:\n",
    "1. collect urls (_beatifulSoup_)  \n",
    "for each url\n",
    " 1. __Download__ - url to m4a(_youtube_dl_)\n",
    " 2. __Assign filepath__(_glob_)\n",
    " 3. __MIR__ - m4a to array(_librosa_)\n",
    " 4. __MIR__ - array to individual segments  \n",
    " 5. __For each segment__\n",
    "    1. __MIR__ - array to beats, mfccs, zcr...  \n",
    "    2. Append to __db__(_sql/csv/json??_)\n",
    "    \n",
    " 5. Remove *.m4a\n",
    "\n",
    "EDGE CASE - error handling"
   ]
  },
  {
   "cell_type": "code",
   "execution_count": 62,
   "metadata": {},
   "outputs": [],
   "source": [
    "genre = 'country'"
   ]
  },
  {
   "cell_type": "code",
   "execution_count": 63,
   "metadata": {},
   "outputs": [],
   "source": [
    "ydl_opts = {\n",
    "    'format': 'bestaudio/best',\n",
    "    'ignoreerrors': True,\n",
    "    'outtmpl': '%(title)s.%(ext)s',\n",
    "    'playlistend': 1,\n",
    "    'postprocessors': [{\n",
    "        'key': 'FFmpegExtractAudio',\n",
    "        'preferredcodec': 'm4a',\n",
    "        'preferredquality': '192',\n",
    "    }],\n",
    "}\n",
    "ydl = youtube_dl.YoutubeDL(ydl_opts)"
   ]
  },
  {
   "cell_type": "code",
   "execution_count": 64,
   "metadata": {},
   "outputs": [],
   "source": [
    "response = requests.get('https://www.youtube.com/playlist?list=PL3oW2tjiIxvQW6c-4Iry8Bpp3QId40S5S')"
   ]
  },
  {
   "cell_type": "code",
   "execution_count": 65,
   "metadata": {},
   "outputs": [],
   "source": [
    "soup = bs4.BeautifulSoup(response.text, 'html.parser')"
   ]
  },
  {
   "cell_type": "code",
   "execution_count": 66,
   "metadata": {},
   "outputs": [],
   "source": [
    "link_sfxs = ([a['href'] for a in soup.find_all('a', class_='pl-video-title-link')])"
   ]
  },
  {
   "cell_type": "code",
   "execution_count": 67,
   "metadata": {},
   "outputs": [
    {
     "name": "stdout",
     "output_type": "stream",
     "text": [
      "[youtube:playlist] Downloading playlist PL3oW2tjiIxvQW6c-4Iry8Bpp3QId40S5S - add --no-playlist to just download video ZEWGyyLiqY4\n",
      "[youtube:playlist] PL3oW2tjiIxvQW6c-4Iry8Bpp3QId40S5S: Downloading webpage\n",
      "[download] Downloading playlist: Best Country Songs of All Time - Top Country Music Videos\n",
      "[youtube:playlist] playlist Best Country Songs of All Time - Top Country Music Videos: Downloading 1 videos\n",
      "[download] Downloading video 1 of 1\n",
      "[youtube] ZEWGyyLiqY4: Downloading webpage\n",
      "[youtube] ZEWGyyLiqY4: Downloading video info webpage\n",
      "[download] Destination: Blake Shelton - God's Country (Official Music Video).webm\n",
      "[download] 100% of 3.29MiB in 00:01\n",
      "[ffmpeg] Destination: Blake Shelton - God's Country (Official Music Video).m4a\n",
      "Deleting original file Blake Shelton - God's Country (Official Music Video).webm (pass -k to keep)\n",
      "[download] Finished downloading playlist: Best Country Songs of All Time - Top Country Music Videos\n"
     ]
    },
    {
     "data": {
      "text/plain": [
       "0"
      ]
     },
     "execution_count": 67,
     "metadata": {},
     "output_type": "execute_result"
    }
   ],
   "source": [
    "url = 'https://www.youtube.com' + link_sfxs[0]\n",
    "ydl.download([url])"
   ]
  },
  {
   "cell_type": "code",
   "execution_count": 78,
   "metadata": {},
   "outputs": [],
   "source": [
    "fp = glob('*.m4a')[0]"
   ]
  },
  {
   "cell_type": "code",
   "execution_count": 83,
   "metadata": {},
   "outputs": [],
   "source": [
    "from genres import listen"
   ]
  },
  {
   "cell_type": "code",
   "execution_count": 80,
   "metadata": {},
   "outputs": [],
   "source": [
    "features = listen(\n",
    "    fp=fp,\n",
    "    genre=genre\n",
    ")"
   ]
  },
  {
   "cell_type": "code",
   "execution_count": 81,
   "metadata": {},
   "outputs": [
    {
     "data": {
      "text/html": [
       "<div>\n",
       "<style scoped>\n",
       "    .dataframe tbody tr th:only-of-type {\n",
       "        vertical-align: middle;\n",
       "    }\n",
       "\n",
       "    .dataframe tbody tr th {\n",
       "        vertical-align: top;\n",
       "    }\n",
       "\n",
       "    .dataframe thead th {\n",
       "        text-align: right;\n",
       "    }\n",
       "</style>\n",
       "<table border=\"1\" class=\"dataframe\">\n",
       "  <thead>\n",
       "    <tr style=\"text-align: right;\">\n",
       "      <th></th>\n",
       "      <th>song</th>\n",
       "      <th>genre</th>\n",
       "      <th>tempo</th>\n",
       "      <th>beats</th>\n",
       "      <th>chroma_stft</th>\n",
       "      <th>rmse</th>\n",
       "      <th>spec_cent</th>\n",
       "      <th>spec_bw</th>\n",
       "      <th>rolloff</th>\n",
       "      <th>zcr</th>\n",
       "      <th>...</th>\n",
       "      <th>mfcc3</th>\n",
       "      <th>mfcc4</th>\n",
       "      <th>mfcc5</th>\n",
       "      <th>mfcc6</th>\n",
       "      <th>mfcc7</th>\n",
       "      <th>mfcc8</th>\n",
       "      <th>mfcc9</th>\n",
       "      <th>mfcc10</th>\n",
       "      <th>mfcc11</th>\n",
       "      <th>mfcc12</th>\n",
       "    </tr>\n",
       "  </thead>\n",
       "  <tbody>\n",
       "    <tr>\n",
       "      <td>0</td>\n",
       "      <td>Blake Shelton - God's Country (Official Music ...</td>\n",
       "      <td>country</td>\n",
       "      <td>140.625</td>\n",
       "      <td>16</td>\n",
       "      <td>0.403930</td>\n",
       "      <td>0.143867</td>\n",
       "      <td>1507.265314</td>\n",
       "      <td>2044.584088</td>\n",
       "      <td>2611.347368</td>\n",
       "      <td>0.024373</td>\n",
       "      <td>...</td>\n",
       "      <td>17.539587</td>\n",
       "      <td>16.890709</td>\n",
       "      <td>-4.263755</td>\n",
       "      <td>5.052443</td>\n",
       "      <td>-2.659404</td>\n",
       "      <td>1.152874</td>\n",
       "      <td>-3.776567</td>\n",
       "      <td>1.217376</td>\n",
       "      <td>-0.12355</td>\n",
       "      <td>1.816821</td>\n",
       "    </tr>\n",
       "    <tr>\n",
       "      <td>1</td>\n",
       "      <td>Blake Shelton - God's Country (Official Music ...</td>\n",
       "      <td>country</td>\n",
       "      <td>93.750</td>\n",
       "      <td>13</td>\n",
       "      <td>0.512143</td>\n",
       "      <td>0.219117</td>\n",
       "      <td>1153.921325</td>\n",
       "      <td>2121.553618</td>\n",
       "      <td>2114.339594</td>\n",
       "      <td>0.015499</td>\n",
       "      <td>...</td>\n",
       "      <td>15.839293</td>\n",
       "      <td>21.270155</td>\n",
       "      <td>-4.460384</td>\n",
       "      <td>17.987693</td>\n",
       "      <td>1.827632</td>\n",
       "      <td>4.848183</td>\n",
       "      <td>4.518678</td>\n",
       "      <td>14.389262</td>\n",
       "      <td>6.49467</td>\n",
       "      <td>8.106324</td>\n",
       "    </tr>\n",
       "  </tbody>\n",
       "</table>\n",
       "<p>2 rows × 22 columns</p>\n",
       "</div>"
      ],
      "text/plain": [
       "                                                song    genre    tempo  beats  \\\n",
       "0  Blake Shelton - God's Country (Official Music ...  country  140.625     16   \n",
       "1  Blake Shelton - God's Country (Official Music ...  country   93.750     13   \n",
       "\n",
       "   chroma_stft      rmse    spec_cent      spec_bw      rolloff       zcr  \\\n",
       "0     0.403930  0.143867  1507.265314  2044.584088  2611.347368  0.024373   \n",
       "1     0.512143  0.219117  1153.921325  2121.553618  2114.339594  0.015499   \n",
       "\n",
       "   ...      mfcc3      mfcc4     mfcc5      mfcc6     mfcc7     mfcc8  \\\n",
       "0  ...  17.539587  16.890709 -4.263755   5.052443 -2.659404  1.152874   \n",
       "1  ...  15.839293  21.270155 -4.460384  17.987693  1.827632  4.848183   \n",
       "\n",
       "      mfcc9     mfcc10   mfcc11    mfcc12  \n",
       "0 -3.776567   1.217376 -0.12355  1.816821  \n",
       "1  4.518678  14.389262  6.49467  8.106324  \n",
       "\n",
       "[2 rows x 22 columns]"
      ]
     },
     "execution_count": 81,
     "metadata": {},
     "output_type": "execute_result"
    }
   ],
   "source": [
    "pd.DataFrame(features).head(2)"
   ]
  },
  {
   "cell_type": "code",
   "execution_count": null,
   "metadata": {},
   "outputs": [],
   "source": []
  },
  {
   "cell_type": "code",
   "execution_count": 82,
   "metadata": {},
   "outputs": [],
   "source": [
    "! rm *.m4a"
   ]
  },
  {
   "cell_type": "code",
   "execution_count": null,
   "metadata": {},
   "outputs": [],
   "source": []
  }
 ],
 "metadata": {
  "kernelspec": {
   "display_name": "learn-env",
   "language": "python",
   "name": "learn-env"
  },
  "language_info": {
   "codemirror_mode": {
    "name": "ipython",
    "version": 3
   },
   "file_extension": ".py",
   "mimetype": "text/x-python",
   "name": "python",
   "nbconvert_exporter": "python",
   "pygments_lexer": "ipython3",
   "version": "3.6.9"
  }
 },
 "nbformat": 4,
 "nbformat_minor": 2
}
