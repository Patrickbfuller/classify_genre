{
 "cells": [
  {
   "cell_type": "code",
   "execution_count": 1,
   "metadata": {},
   "outputs": [],
   "source": [
    "from genres import classify"
   ]
  },
  {
   "cell_type": "code",
   "execution_count": 2,
   "metadata": {},
   "outputs": [
    {
     "data": {
      "text/plain": [
       "[('country', 52.597),\n",
       " ('hip_hop', 22.444),\n",
       " ('jazz', 13.959),\n",
       " ('metal', 4.919),\n",
       " ('electronic', 4.87),\n",
       " ('classical', 1.211)]"
      ]
     },
     "execution_count": 2,
     "metadata": {},
     "output_type": "execute_result"
    }
   ],
   "source": [
    "classify(m4a_fp='/Users/patrickfuller/Music/iTunes/iTunes Media/Music/Unknown Artist/Unknown Album/Violet Dare.mp3')"
   ]
  },
  {
   "cell_type": "code",
   "execution_count": 3,
   "metadata": {},
   "outputs": [
    {
     "name": "stdout",
     "output_type": "stream",
     "text": [
      "Lock & Key Dare+Mix.mp3        Violet Dare.mp3\n",
      "Run Rough Dare +Fid+3rdHrm.mp3 Waiting Dare.mp3\n",
      "Truth Dare.mp3\n"
     ]
    }
   ],
   "source": [
    "!ls /Users/patrickfuller/Music/iTunes/iTunes\\ Media/Music/Unknown\\ Artist/Unknown\\ Album/"
   ]
  },
  {
   "cell_type": "code",
   "execution_count": 4,
   "metadata": {},
   "outputs": [
    {
     "data": {
      "text/plain": [
       "[('metal', 48.67),\n",
       " ('country', 30.789),\n",
       " ('electronic', 9.228),\n",
       " ('hip_hop', 7.783),\n",
       " ('jazz', 2.0),\n",
       " ('classical', 1.531)]"
      ]
     },
     "execution_count": 4,
     "metadata": {},
     "output_type": "execute_result"
    }
   ],
   "source": [
    "darkness_url = 'https://www.youtube.com/watch?v=QSGa1dW_KoE'\n",
    "classify(url=darkness_url)"
   ]
  },
  {
   "cell_type": "code",
   "execution_count": null,
   "metadata": {},
   "outputs": [],
   "source": []
  }
 ],
 "metadata": {
  "kernelspec": {
   "display_name": "learn-env",
   "language": "python",
   "name": "learn-env"
  },
  "language_info": {
   "codemirror_mode": {
    "name": "ipython",
    "version": 3
   },
   "file_extension": ".py",
   "mimetype": "text/x-python",
   "name": "python",
   "nbconvert_exporter": "python",
   "pygments_lexer": "ipython3",
   "version": "3.6.9"
  }
 },
 "nbformat": 4,
 "nbformat_minor": 2
}
