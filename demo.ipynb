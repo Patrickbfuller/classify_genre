{
 "cells": [
  {
   "cell_type": "code",
   "execution_count": 1,
   "metadata": {},
   "outputs": [],
   "source": [
    "from genres import classify"
   ]
  },
  {
   "cell_type": "code",
   "execution_count": 2,
   "metadata": {},
   "outputs": [
    {
     "data": {
      "text/plain": [
       "[('metal', 37.802),\n",
       " ('country', 26.617),\n",
       " ('classical', 11.625),\n",
       " ('hip_hop', 10.245),\n",
       " ('jazz', 8.366),\n",
       " ('electronic', 5.344)]"
      ]
     },
     "execution_count": 2,
     "metadata": {},
     "output_type": "execute_result"
    }
   ],
   "source": [
    "classify(m4a_fp='/Users/patrickfuller/Music/iTunes/iTunes Media/Music/Unknown Artist/Unknown Album/Lock & Key Dare+Mix.mp3')"
   ]
  },
  {
   "cell_type": "code",
   "execution_count": 3,
   "metadata": {},
   "outputs": [
    {
     "name": "stdout",
     "output_type": "stream",
     "text": [
      "Lock & Key Dare+Mix.mp3        Truth Dare.mp3\n",
      "Run Rough Dare +Fid+3rdHrm.mp3 Waiting Dare.mp3\n"
     ]
    }
   ],
   "source": [
    "!ls /Users/patrickfuller/Music/iTunes/iTunes\\ Media/Music/Unknown\\ Artist/Unknown\\ Album/"
   ]
  },
  {
   "cell_type": "code",
   "execution_count": null,
   "metadata": {},
   "outputs": [],
   "source": []
  }
 ],
 "metadata": {
  "kernelspec": {
   "display_name": "learn-env",
   "language": "python",
   "name": "learn-env"
  },
  "language_info": {
   "codemirror_mode": {
    "name": "ipython",
    "version": 3
   },
   "file_extension": ".py",
   "mimetype": "text/x-python",
   "name": "python",
   "nbconvert_exporter": "python",
   "pygments_lexer": "ipython3",
   "version": "3.6.9"
  }
 },
 "nbformat": 4,
 "nbformat_minor": 2
}
